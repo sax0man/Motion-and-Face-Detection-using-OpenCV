{
 "cells": [
  {
   "cell_type": "code",
   "execution_count": 1,
   "metadata": {},
   "outputs": [],
   "source": [
    "import cv2\n",
    "\n",
    "def main():\n",
    "    cap=cv2.VideoCapture(0)\n",
    "\n",
    "    if not cap.isOpened():\n",
    "        print(\"Error:could not open webcam\")\n",
    "        exit()\n",
    "\n",
    "    bg_subtractor = cv2.createBackgroundSubtractorMOG2(history=100,varThreshold=50,detectShadows=True)\n",
    "\n",
    "    face_casade=cv2.CascadeClassifier(cv2.data.haarcascades+'haarcascade_frontalface_default.xml')\n",
    "\n",
    "    try:\n",
    "        while True:\n",
    "\n",
    "            ret,frame=cap.read()\n",
    "\n",
    "            if not ret:\n",
    "                print(\"Error: could not read frame.\")\n",
    "                break\n",
    "\n",
    "            fg_mask=bg_subtractor.apply(frame)\n",
    "\n",
    "            contours,_=cv2.findContours(fg_mask,cv2.RETR_EXTERNAL,cv2.CHAIN_APPROX_SIMPLE)\n",
    "\n",
    "            for cnt in contours:\n",
    "\n",
    "                area=cv2.contourArea(cnt)\n",
    "                if area<500:\n",
    "                    continue\n",
    "\n",
    "                x,y,w,h=cv2.boundingRect(cnt)\n",
    "\n",
    "            gray=cv2.cvtColor(frame,cv2.COLOR_BGR2GRAY)\n",
    "            faces=face_casade.detectMultiScale(gray,scaleFactor=1.1,minNeighbors=5,minSize=(30,30))\n",
    "\n",
    "            for (w,y,w,h) in faces:\n",
    "                cv2.rectangle(frame,(x,y),(x+w,y+h),(0,0,255),2)\n",
    "            \n",
    "            cv2.imshow('Motion and Face Detection',frame)\n",
    "\n",
    "            if cv2.waitKey(1)==27:\n",
    "                break\n",
    "\n",
    "            \n",
    "    finally:\n",
    "        cap.release()\n",
    "        cv2.destroyAllWindows()\n",
    "if __name__==\"__main__\":\n",
    "    main()"
   ]
  },
  {
   "cell_type": "code",
   "execution_count": null,
   "metadata": {},
   "outputs": [],
   "source": []
  }
 ],
 "metadata": {
  "kernelspec": {
   "display_name": "base",
   "language": "python",
   "name": "python3"
  },
  "language_info": {
   "codemirror_mode": {
    "name": "ipython",
    "version": 3
   },
   "file_extension": ".py",
   "mimetype": "text/x-python",
   "name": "python",
   "nbconvert_exporter": "python",
   "pygments_lexer": "ipython3",
   "version": "3.10.9"
  },
  "orig_nbformat": 4
 },
 "nbformat": 4,
 "nbformat_minor": 2
}
